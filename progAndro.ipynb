{
  "nbformat": 4,
  "nbformat_minor": 0,
  "metadata": {
    "colab": {
      "provenance": []
    },
    "kernelspec": {
      "name": "python3",
      "display_name": "Python 3"
    },
    "language_info": {
      "name": "python"
    }
  },
  "cells": [
    {
      "cell_type": "code",
      "execution_count": null,
      "metadata": {
        "colab": {
          "base_uri": "https://localhost:8080/"
        },
        "id": "wXNfr6dF2dGb",
        "outputId": "d3b8a93b-ef0a-4860-c9f4-ab8a5fd9d3da"
      },
      "outputs": [
        {
          "output_type": "stream",
          "name": "stdout",
          "text": [
            "Mounted at /content/drive\n"
          ]
        }
      ],
      "source": [
        "from google.colab import drive\n",
        "drive.mount('/content/drive')"
      ]
    },
    {
      "cell_type": "code",
      "source": [
        "\n",
        "zip_path = '/content/drive/My Drive/MenuMakanan.zip'\n",
        "\n",
        "import zipfile\n",
        "\n",
        "extracted_path = '/content/MenuMakanan'  # Ganti dengan path tempat Anda ingin mengekstrak file ZIP\n",
        "\n",
        "# Ekstraksi file ZIP\n",
        "with zipfile.ZipFile(zip_path, 'r') as zip_ref:\n",
        "    zip_ref.extractall(extracted_path)\n"
      ],
      "metadata": {
        "id": "34c1qGR05J-W"
      },
      "execution_count": null,
      "outputs": []
    },
    {
      "cell_type": "code",
      "source": [
        "from tensorflow.keras.models import Sequential\n",
        "from tensorflow.keras.layers import Conv2D, MaxPooling2D, Flatten, LSTM, Dense, Reshape, Dropout\n",
        "from tensorflow.keras.optimizers import Adam\n",
        "from tensorflow.keras.preprocessing.image import ImageDataGenerator\n",
        "\n",
        "# Path ke dataset yang telah dimuat\n",
        "train_path = '/content/MenuMakanan/MenuMakanan/training'\n",
        "validation_path = '/content/MenuMakanan/MenuMakanan/validation'\n",
        "test_path = '/content/MenuMakanan/MenuMakanan/test'\n",
        "\n",
        "# Augmentasi dan prapemrosesan data menggunakan ImageDataGenerator\n",
        "train_datagen = ImageDataGenerator(rescale=1./255)\n",
        "validation_datagen = ImageDataGenerator(rescale=1./255)\n",
        "test_datagen = ImageDataGenerator(rescale=1./255)\n",
        "\n",
        "img_height = 64\n",
        "img_width = 64\n",
        "img_channels = 3  # Ubah ke 1 jika menggunakan citra grayscale\n",
        "num_classes = 2  # Sesuaikan dengan jumlah kategori/bahasa isyarat yang ada dalam dataset\n",
        "num_epochs = 50\n",
        "batch_size = 32  # Atur sesuai dengan kebutuhan Anda\n",
        "\n",
        "train_generator = train_datagen.flow_from_directory(\n",
        "        train_path,\n",
        "        target_size=(img_height, img_width),\n",
        "        batch_size=batch_size,\n",
        "        class_mode='categorical')\n",
        "\n",
        "validation_generator = validation_datagen.flow_from_directory(\n",
        "        validation_path,\n",
        "        target_size=(img_height, img_width),\n",
        "        batch_size=batch_size,\n",
        "        class_mode='categorical')\n",
        "\n",
        "test_generator = test_datagen.flow_from_directory(\n",
        "        test_path,\n",
        "        target_size=(img_height, img_width),\n",
        "        batch_size=batch_size,\n",
        "        class_mode='categorical')\n",
        "\n",
        "# CNN model\n",
        "model = Sequential()\n",
        "model.add(Conv2D(32, (3, 3), activation='relu', input_shape=(img_height, img_width, img_channels)))\n",
        "model.add(MaxPooling2D((2, 2)))\n",
        "model.add(Conv2D(64, (3, 3), activation='relu'))\n",
        "model.add(MaxPooling2D((2, 2)))\n",
        "model.add(Conv2D(128, (3, 3), activation='relu'))\n",
        "model.add(MaxPooling2D((2, 2)))\n",
        "model.add(Flatten())\n",
        "\n",
        "# LSTM model\n",
        "model.add(Dense(64, activation='relu'))\n",
        "model.add(Reshape((1, -1)))\n",
        "model.add(Dropout(0.2))\n",
        "model.add(LSTM(128))\n",
        "\n",
        "# Output layer\n",
        "model.add(Dense(num_classes, activation='softmax'))\n",
        "\n",
        "# Compile model\n",
        "model.compile(optimizer=Adam(), loss='categorical_crossentropy', metrics=['accuracy'])\n",
        "\n",
        "# Train the model\n",
        "model.fit(train_generator, epochs=num_epochs, validation_data=validation_generator)\n",
        "\n",
        "model.save(\"content/model.h5\")\n",
        "\n",
        "# Evaluate the model\n",
        "accuracy = model.evaluate(test_generator)\n",
        "print(f\"Test Accuracy: {accuracy}\")"
      ],
      "metadata": {
        "colab": {
          "base_uri": "https://localhost:8080/"
        },
        "id": "PWPyttkiSOdM",
        "outputId": "d669fc61-4d8b-4bd4-c8f7-d5574a0f6503"
      },
      "execution_count": null,
      "outputs": [
        {
          "output_type": "stream",
          "name": "stdout",
          "text": [
            "Found 602 images belonging to 2 classes.\n",
            "Found 154 images belonging to 2 classes.\n",
            "Found 59 images belonging to 2 classes.\n",
            "Epoch 1/50\n",
            "19/19 [==============================] - 10s 397ms/step - loss: 0.6765 - accuracy: 0.5980 - val_loss: 0.6954 - val_accuracy: 0.4935\n",
            "Epoch 2/50\n",
            "19/19 [==============================] - 5s 254ms/step - loss: 0.6605 - accuracy: 0.6130 - val_loss: 0.6918 - val_accuracy: 0.5065\n",
            "Epoch 3/50\n",
            "19/19 [==============================] - 7s 352ms/step - loss: 0.6180 - accuracy: 0.6611 - val_loss: 0.6400 - val_accuracy: 0.6364\n",
            "Epoch 4/50\n",
            "19/19 [==============================] - 5s 260ms/step - loss: 0.5250 - accuracy: 0.7558 - val_loss: 0.6305 - val_accuracy: 0.6623\n",
            "Epoch 5/50\n",
            "19/19 [==============================] - 7s 369ms/step - loss: 0.4487 - accuracy: 0.8040 - val_loss: 0.6621 - val_accuracy: 0.6688\n",
            "Epoch 6/50\n",
            "19/19 [==============================] - 5s 242ms/step - loss: 0.4182 - accuracy: 0.8256 - val_loss: 0.4630 - val_accuracy: 0.7857\n",
            "Epoch 7/50\n",
            "19/19 [==============================] - 7s 360ms/step - loss: 0.3537 - accuracy: 0.8555 - val_loss: 0.4566 - val_accuracy: 0.7727\n",
            "Epoch 8/50\n",
            "19/19 [==============================] - 5s 253ms/step - loss: 0.3251 - accuracy: 0.8555 - val_loss: 0.4341 - val_accuracy: 0.7727\n",
            "Epoch 9/50\n",
            "19/19 [==============================] - 6s 310ms/step - loss: 0.3310 - accuracy: 0.8538 - val_loss: 0.4469 - val_accuracy: 0.7857\n",
            "Epoch 10/50\n",
            "19/19 [==============================] - 5s 249ms/step - loss: 0.2932 - accuracy: 0.8837 - val_loss: 0.3844 - val_accuracy: 0.8182\n",
            "Epoch 11/50\n",
            "19/19 [==============================] - 7s 345ms/step - loss: 0.2543 - accuracy: 0.8837 - val_loss: 0.4796 - val_accuracy: 0.8052\n",
            "Epoch 12/50\n",
            "19/19 [==============================] - 5s 242ms/step - loss: 0.2262 - accuracy: 0.9020 - val_loss: 0.3547 - val_accuracy: 0.8182\n",
            "Epoch 13/50\n",
            "19/19 [==============================] - 5s 269ms/step - loss: 0.2097 - accuracy: 0.9219 - val_loss: 0.4044 - val_accuracy: 0.8442\n",
            "Epoch 14/50\n",
            "19/19 [==============================] - 5s 254ms/step - loss: 0.1977 - accuracy: 0.9203 - val_loss: 0.3439 - val_accuracy: 0.8377\n",
            "Epoch 15/50\n",
            "19/19 [==============================] - 6s 338ms/step - loss: 0.1746 - accuracy: 0.9319 - val_loss: 0.3534 - val_accuracy: 0.8506\n",
            "Epoch 16/50\n",
            "19/19 [==============================] - 5s 256ms/step - loss: 0.1527 - accuracy: 0.9485 - val_loss: 0.3735 - val_accuracy: 0.8506\n",
            "Epoch 17/50\n",
            "19/19 [==============================] - 7s 348ms/step - loss: 0.1468 - accuracy: 0.9452 - val_loss: 0.4043 - val_accuracy: 0.8377\n",
            "Epoch 18/50\n",
            "19/19 [==============================] - 5s 256ms/step - loss: 0.1129 - accuracy: 0.9618 - val_loss: 0.5750 - val_accuracy: 0.8442\n",
            "Epoch 19/50\n",
            "19/19 [==============================] - 5s 258ms/step - loss: 0.1715 - accuracy: 0.9352 - val_loss: 0.3311 - val_accuracy: 0.8506\n",
            "Epoch 20/50\n",
            "19/19 [==============================] - 6s 326ms/step - loss: 0.1250 - accuracy: 0.9568 - val_loss: 0.4364 - val_accuracy: 0.8571\n",
            "Epoch 21/50\n",
            "19/19 [==============================] - 6s 307ms/step - loss: 0.1276 - accuracy: 0.9585 - val_loss: 0.3451 - val_accuracy: 0.8442\n",
            "Epoch 22/50\n",
            "19/19 [==============================] - 6s 294ms/step - loss: 0.0864 - accuracy: 0.9684 - val_loss: 0.6345 - val_accuracy: 0.8182\n",
            "Epoch 23/50\n",
            "19/19 [==============================] - 5s 244ms/step - loss: 0.0615 - accuracy: 0.9767 - val_loss: 0.4420 - val_accuracy: 0.8701\n",
            "Epoch 24/50\n",
            "19/19 [==============================] - 7s 357ms/step - loss: 0.0432 - accuracy: 0.9867 - val_loss: 0.5727 - val_accuracy: 0.8442\n",
            "Epoch 25/50\n",
            "19/19 [==============================] - 5s 255ms/step - loss: 0.0462 - accuracy: 0.9850 - val_loss: 0.4317 - val_accuracy: 0.8571\n",
            "Epoch 26/50\n",
            "19/19 [==============================] - 7s 351ms/step - loss: 0.0491 - accuracy: 0.9817 - val_loss: 0.8547 - val_accuracy: 0.8182\n",
            "Epoch 27/50\n",
            "19/19 [==============================] - 5s 257ms/step - loss: 0.1227 - accuracy: 0.9535 - val_loss: 0.5414 - val_accuracy: 0.7987\n",
            "Epoch 28/50\n",
            "19/19 [==============================] - 7s 358ms/step - loss: 0.1069 - accuracy: 0.9684 - val_loss: 0.5203 - val_accuracy: 0.8377\n",
            "Epoch 29/50\n",
            "19/19 [==============================] - 5s 247ms/step - loss: 0.0504 - accuracy: 0.9801 - val_loss: 0.6318 - val_accuracy: 0.8247\n",
            "Epoch 30/50\n",
            "19/19 [==============================] - 7s 360ms/step - loss: 0.0700 - accuracy: 0.9767 - val_loss: 0.5574 - val_accuracy: 0.8312\n",
            "Epoch 31/50\n",
            "19/19 [==============================] - 5s 244ms/step - loss: 0.0225 - accuracy: 0.9934 - val_loss: 0.6505 - val_accuracy: 0.8571\n",
            "Epoch 32/50\n",
            "19/19 [==============================] - 6s 318ms/step - loss: 0.0211 - accuracy: 0.9934 - val_loss: 0.4673 - val_accuracy: 0.8571\n",
            "Epoch 33/50\n",
            "19/19 [==============================] - 5s 275ms/step - loss: 0.0114 - accuracy: 1.0000 - val_loss: 0.9669 - val_accuracy: 0.8247\n",
            "Epoch 34/50\n",
            "19/19 [==============================] - 7s 346ms/step - loss: 0.0399 - accuracy: 0.9950 - val_loss: 0.8040 - val_accuracy: 0.8312\n",
            "Epoch 35/50\n",
            "19/19 [==============================] - 5s 254ms/step - loss: 0.0121 - accuracy: 0.9983 - val_loss: 0.6252 - val_accuracy: 0.8571\n",
            "Epoch 36/50\n",
            "19/19 [==============================] - 5s 255ms/step - loss: 0.0693 - accuracy: 0.9784 - val_loss: 0.4846 - val_accuracy: 0.8377\n",
            "Epoch 37/50\n",
            "19/19 [==============================] - 7s 345ms/step - loss: 0.0544 - accuracy: 0.9817 - val_loss: 0.6878 - val_accuracy: 0.8312\n",
            "Epoch 38/50\n",
            "19/19 [==============================] - 5s 251ms/step - loss: 0.0331 - accuracy: 0.9900 - val_loss: 0.6648 - val_accuracy: 0.8312\n",
            "Epoch 39/50\n",
            "19/19 [==============================] - 7s 342ms/step - loss: 0.0342 - accuracy: 0.9934 - val_loss: 0.7212 - val_accuracy: 0.8377\n",
            "Epoch 40/50\n",
            "19/19 [==============================] - 5s 249ms/step - loss: 0.0225 - accuracy: 0.9950 - val_loss: 0.6231 - val_accuracy: 0.8571\n",
            "Epoch 41/50\n",
            "19/19 [==============================] - 6s 334ms/step - loss: 0.0129 - accuracy: 0.9967 - val_loss: 0.7506 - val_accuracy: 0.8571\n",
            "Epoch 42/50\n",
            "19/19 [==============================] - 5s 254ms/step - loss: 0.0063 - accuracy: 0.9983 - val_loss: 0.7589 - val_accuracy: 0.8571\n",
            "Epoch 43/50\n",
            "19/19 [==============================] - 7s 352ms/step - loss: 0.0137 - accuracy: 0.9967 - val_loss: 0.6161 - val_accuracy: 0.8442\n",
            "Epoch 44/50\n",
            "19/19 [==============================] - 5s 256ms/step - loss: 0.0037 - accuracy: 1.0000 - val_loss: 0.7271 - val_accuracy: 0.8506\n",
            "Epoch 45/50\n",
            "19/19 [==============================] - 7s 360ms/step - loss: 0.0160 - accuracy: 0.9983 - val_loss: 0.7045 - val_accuracy: 0.8506\n",
            "Epoch 46/50\n",
            "19/19 [==============================] - 5s 245ms/step - loss: 0.0093 - accuracy: 0.9967 - val_loss: 0.6288 - val_accuracy: 0.8442\n",
            "Epoch 47/50\n",
            "19/19 [==============================] - 5s 256ms/step - loss: 0.0180 - accuracy: 0.9950 - val_loss: 0.6698 - val_accuracy: 0.8442\n",
            "Epoch 48/50\n",
            "19/19 [==============================] - 6s 311ms/step - loss: 0.0032 - accuracy: 1.0000 - val_loss: 0.8266 - val_accuracy: 0.8571\n",
            "Epoch 49/50\n",
            "19/19 [==============================] - 5s 260ms/step - loss: 0.0019 - accuracy: 1.0000 - val_loss: 0.7884 - val_accuracy: 0.8571\n",
            "Epoch 50/50\n",
            "19/19 [==============================] - 7s 354ms/step - loss: 0.0030 - accuracy: 0.9983 - val_loss: 0.8287 - val_accuracy: 0.8571\n"
          ]
        },
        {
          "output_type": "stream",
          "name": "stderr",
          "text": [
            "/usr/local/lib/python3.10/dist-packages/keras/src/engine/training.py:3103: UserWarning: You are saving your model as an HDF5 file via `model.save()`. This file format is considered legacy. We recommend using instead the native Keras format, e.g. `model.save('my_model.keras')`.\n",
            "  saving_api.save_model(\n"
          ]
        },
        {
          "output_type": "stream",
          "name": "stdout",
          "text": [
            "2/2 [==============================] - 0s 48ms/step - loss: 0.7653 - accuracy: 0.8983\n",
            "Test Accuracy: [0.7653478980064392, 0.8983050584793091]\n"
          ]
        }
      ]
    },
    {
      "cell_type": "code",
      "source": [
        "import tensorflow.lite as tf_lite\n",
        "\n",
        "# Assuming you have a Keras model named 'model' already defined\n",
        "\n",
        "# Convert the model to TFLite\n",
        "converter = tf_lite.TFLiteConverter.from_keras_model(model)\n",
        "converter.target_spec.supported_ops = [tf_lite.OpsSet.TFLITE_BUILTINS, tf_lite.OpsSet.SELECT_TF_OPS]\n",
        "converter.experimental_new_converter = True\n",
        "\n",
        "# Disable experimental lower tensor list ops\n",
        "converter._experimental_lower_tensor_list_ops = False\n",
        "\n",
        "tflite_model = converter.convert()\n",
        "\n",
        "# Save the TFLite model\n",
        "tflite_model_path = \"content/model.tflite\"\n",
        "with open(tflite_model_path, \"wb\") as f:\n",
        "    f.write(tflite_model)\n",
        "\n",
        "print(\"TFLite model saved successfully at:\", tflite_model_path)"
      ],
      "metadata": {
        "colab": {
          "base_uri": "https://localhost:8080/"
        },
        "id": "W-tpWKal6y0I",
        "outputId": "13a1c296-dda1-4311-d162-b4633eab97e4"
      },
      "execution_count": null,
      "outputs": [
        {
          "output_type": "stream",
          "name": "stdout",
          "text": [
            "TFLite model saved successfully at: content/model.tflite\n"
          ]
        }
      ]
    },
    {
      "cell_type": "code",
      "source": [
        "\n",
        "from tensorflow.keras.preprocessing import image\n",
        "import numpy as np\n",
        "\n",
        "# Path ke gambar yang ingin diuji\n",
        "test_image_path = '/content/crispy-comte-cheesburgers-FT-RECIPE0921-6166c6552b7148e8a8561f7765ddf20b.jpg'  # Ganti dengan path gambar Anda\n",
        "\n",
        "# Fungsi untuk memprediksi gambar\n",
        "def predict_image(model, img_path, labels):\n",
        "    img = image.load_img(img_path, target_size=(img_height, img_width))\n",
        "    img_array = image.img_to_array(img)\n",
        "    img_array = np.expand_dims(img_array, axis=0)\n",
        "    img_array = img_array / 255.0  # Normalisasi seperti pada proses training\n",
        "\n",
        "    # Melakukan prediksi\n",
        "    prediction = model.predict(img_array)\n",
        "    predicted_class = np.argmax(prediction, axis=1)\n",
        "    predicted_label = labels[predicted_class[0]]\n",
        "    return predicted_label\n",
        "\n",
        "# List label sesuai dengan kelas numerik dari model\n",
        "labels = ['burger','french fries']\n",
        "\n",
        "# Melakukan prediksi untuk gambar tertentu\n",
        "predicted_class = predict_image(model, test_image_path, labels)\n",
        "print(f'Predicted class: {predicted_class}')"
      ],
      "metadata": {
        "colab": {
          "base_uri": "https://localhost:8080/"
        },
        "id": "3M0kpmSBSVbE",
        "outputId": "a4c0ee0e-05a9-4770-a3b8-58f0be952ac9"
      },
      "execution_count": null,
      "outputs": [
        {
          "output_type": "stream",
          "name": "stdout",
          "text": [
            "1/1 [==============================] - 0s 27ms/step\n",
            "Predicted class: burger\n"
          ]
        }
      ]
    }
  ]
}